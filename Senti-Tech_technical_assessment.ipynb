{
 "cells": [
  {
   "cell_type": "code",
   "execution_count": 215,
   "metadata": {},
   "outputs": [],
   "source": [
    "import pandas as pd\n",
    "import seaborn as sns\n",
    "import matplotlib.pyplot as plt\n",
    "import numpy as np"
   ]
  },
  {
   "cell_type": "code",
   "execution_count": 182,
   "metadata": {},
   "outputs": [
    {
     "data": {
      "text/html": [
       "<div>\n",
       "<style scoped>\n",
       "    .dataframe tbody tr th:only-of-type {\n",
       "        vertical-align: middle;\n",
       "    }\n",
       "\n",
       "    .dataframe tbody tr th {\n",
       "        vertical-align: top;\n",
       "    }\n",
       "\n",
       "    .dataframe thead th {\n",
       "        text-align: right;\n",
       "    }\n",
       "</style>\n",
       "<table border=\"1\" class=\"dataframe\">\n",
       "  <thead>\n",
       "    <tr style=\"text-align: right;\">\n",
       "      <th></th>\n",
       "      <th>Unnamed: 0</th>\n",
       "      <th>diagnosis</th>\n",
       "      <th>age</th>\n",
       "      <th>sex</th>\n",
       "      <th>bmi</th>\n",
       "      <th>pt_num</th>\n",
       "      <th>loc</th>\n",
       "      <th>scope</th>\n",
       "    </tr>\n",
       "  </thead>\n",
       "  <tbody>\n",
       "    <tr>\n",
       "      <td>0</td>\n",
       "      <td>0</td>\n",
       "      <td>COPD</td>\n",
       "      <td>85.0</td>\n",
       "      <td>F</td>\n",
       "      <td>17.1</td>\n",
       "      <td>130</td>\n",
       "      <td>Ar</td>\n",
       "      <td>AKGC417L</td>\n",
       "    </tr>\n",
       "    <tr>\n",
       "      <td>1</td>\n",
       "      <td>1</td>\n",
       "      <td>COPD</td>\n",
       "      <td>85.0</td>\n",
       "      <td>F</td>\n",
       "      <td>17.1</td>\n",
       "      <td>130</td>\n",
       "      <td>Ll</td>\n",
       "      <td>AKGC417L</td>\n",
       "    </tr>\n",
       "    <tr>\n",
       "      <td>2</td>\n",
       "      <td>2</td>\n",
       "      <td>COPD</td>\n",
       "      <td>85.0</td>\n",
       "      <td>F</td>\n",
       "      <td>17.1</td>\n",
       "      <td>130</td>\n",
       "      <td>Lr</td>\n",
       "      <td>AKGC417L</td>\n",
       "    </tr>\n",
       "    <tr>\n",
       "      <td>3</td>\n",
       "      <td>3</td>\n",
       "      <td>COPD</td>\n",
       "      <td>85.0</td>\n",
       "      <td>F</td>\n",
       "      <td>17.1</td>\n",
       "      <td>130</td>\n",
       "      <td>Pl</td>\n",
       "      <td>AKGC417L</td>\n",
       "    </tr>\n",
       "    <tr>\n",
       "      <td>4</td>\n",
       "      <td>4</td>\n",
       "      <td>COPD</td>\n",
       "      <td>85.0</td>\n",
       "      <td>F</td>\n",
       "      <td>17.1</td>\n",
       "      <td>130</td>\n",
       "      <td>Al</td>\n",
       "      <td>AKGC417L</td>\n",
       "    </tr>\n",
       "    <tr>\n",
       "      <td>...</td>\n",
       "      <td>...</td>\n",
       "      <td>...</td>\n",
       "      <td>...</td>\n",
       "      <td>...</td>\n",
       "      <td>...</td>\n",
       "      <td>...</td>\n",
       "      <td>...</td>\n",
       "      <td>...</td>\n",
       "    </tr>\n",
       "    <tr>\n",
       "      <td>422</td>\n",
       "      <td>422</td>\n",
       "      <td>COPD</td>\n",
       "      <td>75.0</td>\n",
       "      <td>M</td>\n",
       "      <td>27.7</td>\n",
       "      <td>185</td>\n",
       "      <td>Ar</td>\n",
       "      <td>Litt3200</td>\n",
       "    </tr>\n",
       "    <tr>\n",
       "      <td>423</td>\n",
       "      <td>423</td>\n",
       "      <td>COPD</td>\n",
       "      <td>75.0</td>\n",
       "      <td>M</td>\n",
       "      <td>27.7</td>\n",
       "      <td>185</td>\n",
       "      <td>Ll</td>\n",
       "      <td>Litt3200</td>\n",
       "    </tr>\n",
       "    <tr>\n",
       "      <td>424</td>\n",
       "      <td>424</td>\n",
       "      <td>COPD</td>\n",
       "      <td>75.0</td>\n",
       "      <td>M</td>\n",
       "      <td>27.7</td>\n",
       "      <td>185</td>\n",
       "      <td>Lr</td>\n",
       "      <td>Litt3200</td>\n",
       "    </tr>\n",
       "    <tr>\n",
       "      <td>425</td>\n",
       "      <td>425</td>\n",
       "      <td>COPD</td>\n",
       "      <td>75.0</td>\n",
       "      <td>M</td>\n",
       "      <td>27.7</td>\n",
       "      <td>185</td>\n",
       "      <td>Pl</td>\n",
       "      <td>Litt3200</td>\n",
       "    </tr>\n",
       "    <tr>\n",
       "      <td>426</td>\n",
       "      <td>426</td>\n",
       "      <td>COPD</td>\n",
       "      <td>75.0</td>\n",
       "      <td>M</td>\n",
       "      <td>27.7</td>\n",
       "      <td>185</td>\n",
       "      <td>Pr</td>\n",
       "      <td>Litt3200</td>\n",
       "    </tr>\n",
       "  </tbody>\n",
       "</table>\n",
       "<p>427 rows × 8 columns</p>\n",
       "</div>"
      ],
      "text/plain": [
       "     Unnamed: 0 diagnosis   age sex   bmi  pt_num loc     scope\n",
       "0             0      COPD  85.0   F  17.1     130  Ar  AKGC417L\n",
       "1             1      COPD  85.0   F  17.1     130  Ll  AKGC417L\n",
       "2             2      COPD  85.0   F  17.1     130  Lr  AKGC417L\n",
       "3             3      COPD  85.0   F  17.1     130  Pl  AKGC417L\n",
       "4             4      COPD  85.0   F  17.1     130  Al  AKGC417L\n",
       "..          ...       ...   ...  ..   ...     ...  ..       ...\n",
       "422         422      COPD  75.0   M  27.7     185  Ar  Litt3200\n",
       "423         423      COPD  75.0   M  27.7     185  Ll  Litt3200\n",
       "424         424      COPD  75.0   M  27.7     185  Lr  Litt3200\n",
       "425         425      COPD  75.0   M  27.7     185  Pl  Litt3200\n",
       "426         426      COPD  75.0   M  27.7     185  Pr  Litt3200\n",
       "\n",
       "[427 rows x 8 columns]"
      ]
     },
     "execution_count": 182,
     "metadata": {},
     "output_type": "execute_result"
    }
   ],
   "source": [
    "# Load the data\n",
    "df = pd.read_csv('patient_table.csv')\n",
    "df"
   ]
  },
  {
   "cell_type": "code",
   "execution_count": 186,
   "metadata": {},
   "outputs": [
    {
     "data": {
      "text/html": [
       "<div>\n",
       "<style scoped>\n",
       "    .dataframe tbody tr th:only-of-type {\n",
       "        vertical-align: middle;\n",
       "    }\n",
       "\n",
       "    .dataframe tbody tr th {\n",
       "        vertical-align: top;\n",
       "    }\n",
       "\n",
       "    .dataframe thead th {\n",
       "        text-align: right;\n",
       "    }\n",
       "</style>\n",
       "<table border=\"1\" class=\"dataframe\">\n",
       "  <thead>\n",
       "    <tr style=\"text-align: right;\">\n",
       "      <th></th>\n",
       "      <th>Unnamed: 0</th>\n",
       "      <th>diagnosis</th>\n",
       "      <th>age</th>\n",
       "      <th>sex</th>\n",
       "      <th>bmi</th>\n",
       "      <th>pt_num</th>\n",
       "      <th>loc</th>\n",
       "      <th>scope</th>\n",
       "    </tr>\n",
       "  </thead>\n",
       "  <tbody>\n",
       "    <tr>\n",
       "      <td>0</td>\n",
       "      <td>0</td>\n",
       "      <td>COPD</td>\n",
       "      <td>85.0</td>\n",
       "      <td>F</td>\n",
       "      <td>17.1</td>\n",
       "      <td>130</td>\n",
       "      <td>Ar</td>\n",
       "      <td>AKGC417L</td>\n",
       "    </tr>\n",
       "    <tr>\n",
       "      <td>5</td>\n",
       "      <td>5</td>\n",
       "      <td>COPD</td>\n",
       "      <td>67.0</td>\n",
       "      <td>M</td>\n",
       "      <td>29.4</td>\n",
       "      <td>195</td>\n",
       "      <td>Ar</td>\n",
       "      <td>Litt3200</td>\n",
       "    </tr>\n",
       "    <tr>\n",
       "      <td>13</td>\n",
       "      <td>13</td>\n",
       "      <td>URTI</td>\n",
       "      <td>3.0</td>\n",
       "      <td>M</td>\n",
       "      <td>14.9</td>\n",
       "      <td>131</td>\n",
       "      <td>Al</td>\n",
       "      <td>Meditron</td>\n",
       "    </tr>\n",
       "    <tr>\n",
       "      <td>14</td>\n",
       "      <td>14</td>\n",
       "      <td>COPD</td>\n",
       "      <td>71.0</td>\n",
       "      <td>M</td>\n",
       "      <td>34.0</td>\n",
       "      <td>132</td>\n",
       "      <td>Lr</td>\n",
       "      <td>LittC2SE</td>\n",
       "    </tr>\n",
       "    <tr>\n",
       "      <td>15</td>\n",
       "      <td>15</td>\n",
       "      <td>COPD</td>\n",
       "      <td>75.0</td>\n",
       "      <td>M</td>\n",
       "      <td>26.3</td>\n",
       "      <td>218</td>\n",
       "      <td>Al</td>\n",
       "      <td>Meditron</td>\n",
       "    </tr>\n",
       "    <tr>\n",
       "      <td>...</td>\n",
       "      <td>...</td>\n",
       "      <td>...</td>\n",
       "      <td>...</td>\n",
       "      <td>...</td>\n",
       "      <td>...</td>\n",
       "      <td>...</td>\n",
       "      <td>...</td>\n",
       "      <td>...</td>\n",
       "    </tr>\n",
       "    <tr>\n",
       "      <td>408</td>\n",
       "      <td>408</td>\n",
       "      <td>COPD</td>\n",
       "      <td>65.0</td>\n",
       "      <td>F</td>\n",
       "      <td>24.3</td>\n",
       "      <td>128</td>\n",
       "      <td>Tc</td>\n",
       "      <td>LittC2SE</td>\n",
       "    </tr>\n",
       "    <tr>\n",
       "      <td>409</td>\n",
       "      <td>409</td>\n",
       "      <td>URTI</td>\n",
       "      <td>6.0</td>\n",
       "      <td>M</td>\n",
       "      <td>16.2</td>\n",
       "      <td>129</td>\n",
       "      <td>Ar</td>\n",
       "      <td>Meditron</td>\n",
       "    </tr>\n",
       "    <tr>\n",
       "      <td>410</td>\n",
       "      <td>410</td>\n",
       "      <td>COPD</td>\n",
       "      <td>71.0</td>\n",
       "      <td>M</td>\n",
       "      <td>25.1</td>\n",
       "      <td>166</td>\n",
       "      <td>Al</td>\n",
       "      <td>Meditron</td>\n",
       "    </tr>\n",
       "    <tr>\n",
       "      <td>415</td>\n",
       "      <td>415</td>\n",
       "      <td>COPD</td>\n",
       "      <td>63.0</td>\n",
       "      <td>M</td>\n",
       "      <td>28.3</td>\n",
       "      <td>175</td>\n",
       "      <td>Al</td>\n",
       "      <td>Litt3200</td>\n",
       "    </tr>\n",
       "    <tr>\n",
       "      <td>421</td>\n",
       "      <td>421</td>\n",
       "      <td>COPD</td>\n",
       "      <td>75.0</td>\n",
       "      <td>M</td>\n",
       "      <td>27.7</td>\n",
       "      <td>185</td>\n",
       "      <td>Al</td>\n",
       "      <td>Litt3200</td>\n",
       "    </tr>\n",
       "  </tbody>\n",
       "</table>\n",
       "<p>126 rows × 8 columns</p>\n",
       "</div>"
      ],
      "text/plain": [
       "     Unnamed: 0 diagnosis   age sex   bmi  pt_num loc     scope\n",
       "0             0      COPD  85.0   F  17.1     130  Ar  AKGC417L\n",
       "5             5      COPD  67.0   M  29.4     195  Ar  Litt3200\n",
       "13           13      URTI   3.0   M  14.9     131  Al  Meditron\n",
       "14           14      COPD  71.0   M  34.0     132  Lr  LittC2SE\n",
       "15           15      COPD  75.0   M  26.3     218  Al  Meditron\n",
       "..          ...       ...   ...  ..   ...     ...  ..       ...\n",
       "408         408      COPD  65.0   F  24.3     128  Tc  LittC2SE\n",
       "409         409      URTI   6.0   M  16.2     129  Ar  Meditron\n",
       "410         410      COPD  71.0   M  25.1     166  Al  Meditron\n",
       "415         415      COPD  63.0   M  28.3     175  Al  Litt3200\n",
       "421         421      COPD  75.0   M  27.7     185  Al  Litt3200\n",
       "\n",
       "[126 rows x 8 columns]"
      ]
     },
     "execution_count": 186,
     "metadata": {},
     "output_type": "execute_result"
    }
   ],
   "source": [
    "# Remove duplicate rows for same patient\n",
    "df = df.drop_duplicates(subset='pt_num', keep=\"first\")\n",
    "df"
   ]
  },
  {
   "cell_type": "code",
   "execution_count": 188,
   "metadata": {},
   "outputs": [],
   "source": [
    "# Remove rows with null values\n",
    "df = df.dropna()"
   ]
  },
  {
   "cell_type": "code",
   "execution_count": 189,
   "metadata": {},
   "outputs": [
    {
     "data": {
      "text/html": [
       "<div>\n",
       "<style scoped>\n",
       "    .dataframe tbody tr th:only-of-type {\n",
       "        vertical-align: middle;\n",
       "    }\n",
       "\n",
       "    .dataframe tbody tr th {\n",
       "        vertical-align: top;\n",
       "    }\n",
       "\n",
       "    .dataframe thead th {\n",
       "        text-align: right;\n",
       "    }\n",
       "</style>\n",
       "<table border=\"1\" class=\"dataframe\">\n",
       "  <thead>\n",
       "    <tr style=\"text-align: right;\">\n",
       "      <th></th>\n",
       "      <th>Unnamed: 0</th>\n",
       "      <th>diagnosis</th>\n",
       "      <th>age</th>\n",
       "      <th>sex</th>\n",
       "      <th>bmi</th>\n",
       "    </tr>\n",
       "  </thead>\n",
       "  <tbody>\n",
       "    <tr>\n",
       "      <td>0</td>\n",
       "      <td>0</td>\n",
       "      <td>COPD</td>\n",
       "      <td>85.0</td>\n",
       "      <td>F</td>\n",
       "      <td>17.1</td>\n",
       "    </tr>\n",
       "    <tr>\n",
       "      <td>5</td>\n",
       "      <td>5</td>\n",
       "      <td>COPD</td>\n",
       "      <td>67.0</td>\n",
       "      <td>M</td>\n",
       "      <td>29.4</td>\n",
       "    </tr>\n",
       "    <tr>\n",
       "      <td>13</td>\n",
       "      <td>13</td>\n",
       "      <td>URTI</td>\n",
       "      <td>3.0</td>\n",
       "      <td>M</td>\n",
       "      <td>14.9</td>\n",
       "    </tr>\n",
       "    <tr>\n",
       "      <td>14</td>\n",
       "      <td>14</td>\n",
       "      <td>COPD</td>\n",
       "      <td>71.0</td>\n",
       "      <td>M</td>\n",
       "      <td>34.0</td>\n",
       "    </tr>\n",
       "    <tr>\n",
       "      <td>15</td>\n",
       "      <td>15</td>\n",
       "      <td>COPD</td>\n",
       "      <td>75.0</td>\n",
       "      <td>M</td>\n",
       "      <td>26.3</td>\n",
       "    </tr>\n",
       "    <tr>\n",
       "      <td>...</td>\n",
       "      <td>...</td>\n",
       "      <td>...</td>\n",
       "      <td>...</td>\n",
       "      <td>...</td>\n",
       "      <td>...</td>\n",
       "    </tr>\n",
       "    <tr>\n",
       "      <td>408</td>\n",
       "      <td>408</td>\n",
       "      <td>COPD</td>\n",
       "      <td>65.0</td>\n",
       "      <td>F</td>\n",
       "      <td>24.3</td>\n",
       "    </tr>\n",
       "    <tr>\n",
       "      <td>409</td>\n",
       "      <td>409</td>\n",
       "      <td>URTI</td>\n",
       "      <td>6.0</td>\n",
       "      <td>M</td>\n",
       "      <td>16.2</td>\n",
       "    </tr>\n",
       "    <tr>\n",
       "      <td>410</td>\n",
       "      <td>410</td>\n",
       "      <td>COPD</td>\n",
       "      <td>71.0</td>\n",
       "      <td>M</td>\n",
       "      <td>25.1</td>\n",
       "    </tr>\n",
       "    <tr>\n",
       "      <td>415</td>\n",
       "      <td>415</td>\n",
       "      <td>COPD</td>\n",
       "      <td>63.0</td>\n",
       "      <td>M</td>\n",
       "      <td>28.3</td>\n",
       "    </tr>\n",
       "    <tr>\n",
       "      <td>421</td>\n",
       "      <td>421</td>\n",
       "      <td>COPD</td>\n",
       "      <td>75.0</td>\n",
       "      <td>M</td>\n",
       "      <td>27.7</td>\n",
       "    </tr>\n",
       "  </tbody>\n",
       "</table>\n",
       "<p>117 rows × 5 columns</p>\n",
       "</div>"
      ],
      "text/plain": [
       "     Unnamed: 0 diagnosis   age sex   bmi\n",
       "0             0      COPD  85.0   F  17.1\n",
       "5             5      COPD  67.0   M  29.4\n",
       "13           13      URTI   3.0   M  14.9\n",
       "14           14      COPD  71.0   M  34.0\n",
       "15           15      COPD  75.0   M  26.3\n",
       "..          ...       ...   ...  ..   ...\n",
       "408         408      COPD  65.0   F  24.3\n",
       "409         409      URTI   6.0   M  16.2\n",
       "410         410      COPD  71.0   M  25.1\n",
       "415         415      COPD  63.0   M  28.3\n",
       "421         421      COPD  75.0   M  27.7\n",
       "\n",
       "[117 rows x 5 columns]"
      ]
     },
     "execution_count": 189,
     "metadata": {},
     "output_type": "execute_result"
    }
   ],
   "source": [
    "# Before beggining EDA we can already drop the columns for patient number, location of \n",
    "# reading and scope used. One can safely assume that these variables have no correlation on the diagnosis.\n",
    "df = df.drop(['pt_num', 'loc','scope'], axis = 1)\n",
    "df"
   ]
  },
  {
   "cell_type": "markdown",
   "metadata": {},
   "source": [
    "## Age and BMI\n",
    "We first look at the correlation BMI and age have on the diagnosis. We consider these vairables seperately to gender because they are quantitative values rather than categorical."
   ]
  },
  {
   "cell_type": "code",
   "execution_count": 194,
   "metadata": {},
   "outputs": [
    {
     "data": {
      "text/plain": [
       "<matplotlib.legend.Legend at 0x1a0a99811c8>"
      ]
     },
     "execution_count": 194,
     "metadata": {},
     "output_type": "execute_result"
    },
    {
     "data": {
      "image/png": "[encoded data removed]",
      "text/plain": [
       "<Figure size 720x720 with 1 Axes>"
      ]
     },
     "metadata": {
      "needs_background": "light"
     },
     "output_type": "display_data"
    }
   ],
   "source": [
    "# A plot of BMI against age, with different coloured data points for each diagnostic group\n",
    "fig, ax = plt.subplots(figsize=(10,10))\n",
    "sns.scatterplot(df['bmi'], df['age'], hue = df['diagnosis'])\n",
    "plt.legend(loc = 'upper right')"
   ]
  },
  {
   "cell_type": "markdown",
   "metadata": {},
   "source": [
    "An interesting feature of this graph is that the data points are generally grouped to two clusters.\n",
    "\n",
    "There is one cluster which consists of younger patients with lower BMI. In this group there is a larger number of patients diagnoses as healthy, URTI and Bronchiloitis.\n",
    "\n",
    "The second cluster consists of older patients with a more varied, but higher overall BMI values. In this cluster there are more patients diagnosed as having COPD and Pneumonia.\n",
    "\n",
    "Another point to be made is that there is a noticeabel positive correlation between age and bmi."
   ]
  },
  {
   "cell_type": "code",
   "execution_count": 361,
   "metadata": {},
   "outputs": [
    {
     "data": {
      "text/html": [
       "<div>\n",
       "<style scoped>\n",
       "    .dataframe tbody tr th:only-of-type {\n",
       "        vertical-align: middle;\n",
       "    }\n",
       "\n",
       "    .dataframe tbody tr th {\n",
       "        vertical-align: top;\n",
       "    }\n",
       "\n",
       "    .dataframe thead th {\n",
       "        text-align: right;\n",
       "    }\n",
       "</style>\n",
       "<table border=\"1\" class=\"dataframe\">\n",
       "  <thead>\n",
       "    <tr style=\"text-align: right;\">\n",
       "      <th></th>\n",
       "      <th>diagnosis</th>\n",
       "      <th>average_age</th>\n",
       "      <th>average_BMI</th>\n",
       "    </tr>\n",
       "  </thead>\n",
       "  <tbody>\n",
       "    <tr>\n",
       "      <td>0</td>\n",
       "      <td>Asthma</td>\n",
       "      <td>70.000000</td>\n",
       "      <td>33.000000</td>\n",
       "    </tr>\n",
       "    <tr>\n",
       "      <td>1</td>\n",
       "      <td>Bronchiectasis</td>\n",
       "      <td>48.285714</td>\n",
       "      <td>26.085714</td>\n",
       "    </tr>\n",
       "    <tr>\n",
       "      <td>2</td>\n",
       "      <td>Bronchiolitis</td>\n",
       "      <td>1.534000</td>\n",
       "      <td>16.720000</td>\n",
       "    </tr>\n",
       "    <tr>\n",
       "      <td>3</td>\n",
       "      <td>COPD</td>\n",
       "      <td>69.370968</td>\n",
       "      <td>27.174194</td>\n",
       "    </tr>\n",
       "    <tr>\n",
       "      <td>4</td>\n",
       "      <td>Healthy</td>\n",
       "      <td>5.631667</td>\n",
       "      <td>17.341667</td>\n",
       "    </tr>\n",
       "    <tr>\n",
       "      <td>5</td>\n",
       "      <td>LRTI</td>\n",
       "      <td>0.580000</td>\n",
       "      <td>17.400000</td>\n",
       "    </tr>\n",
       "    <tr>\n",
       "      <td>6</td>\n",
       "      <td>Pneumonia</td>\n",
       "      <td>62.333333</td>\n",
       "      <td>25.783333</td>\n",
       "    </tr>\n",
       "    <tr>\n",
       "      <td>7</td>\n",
       "      <td>URTI</td>\n",
       "      <td>3.242727</td>\n",
       "      <td>17.809091</td>\n",
       "    </tr>\n",
       "  </tbody>\n",
       "</table>\n",
       "</div>"
      ],
      "text/plain": [
       "        diagnosis  average_age  average_BMI\n",
       "0          Asthma    70.000000    33.000000\n",
       "1  Bronchiectasis    48.285714    26.085714\n",
       "2   Bronchiolitis     1.534000    16.720000\n",
       "3            COPD    69.370968    27.174194\n",
       "4         Healthy     5.631667    17.341667\n",
       "5            LRTI     0.580000    17.400000\n",
       "6       Pneumonia    62.333333    25.783333\n",
       "7            URTI     3.242727    17.809091"
      ]
     },
     "execution_count": 361,
     "metadata": {},
     "output_type": "execute_result"
    }
   ],
   "source": [
    "# It is perhaps useful to create a table which shows the average age and bmi of patients for each diagnostic group.\n",
    "diseases = ['Asthma','Bronchiectasis','Bronchiolitis','COPD','Healthy','LRTI','Pneumonia','URTI']\n",
    "\n",
    "average_ages = []\n",
    "average_bmis = []\n",
    "\n",
    "for d in diseases:\n",
    "    sum_of_age = 0\n",
    "    N = 0\n",
    "    for i in df[df['diagnosis'] == d]['age']:\n",
    "        sum_of_age += i\n",
    "        N += 1\n",
    "    average_ages.append(sum_of_age / N)\n",
    "    \n",
    "for d in diseases:\n",
    "    sum_of_bmi = 0\n",
    "    N = 0\n",
    "    for i in df[df['diagnosis'] == d]['bmi']:\n",
    "        sum_of_bmi += i\n",
    "        N += 1\n",
    "    average_bmis.append(sum_of_bmi / N)\n",
    "        \n",
    "\n",
    "pd.DataFrame({'diagnosis':diseases, 'average_age':average_ages, 'average_BMI':average_bmis})"
   ]
  },
  {
   "cell_type": "markdown",
   "metadata": {},
   "source": [
    "This table shows that there is a very significant difference between the average and BMI of the patients in different diagnostic groups, and so it is important to consider atleast on of these variables when using a model to diagnose patients. However it is also important to remeber that the BMI and age themselves may be correlated, and so it may only be that one of the two variables out of age and BMI is what correlates the diagnosis. We can use a pearson correlation coefficient (PCC) test to determine the correlation between age and BMI."
   ]
  },
  {
   "cell_type": "code",
   "execution_count": 362,
   "metadata": {},
   "outputs": [],
   "source": [
    "# Defining a fucntion to calculate the pearson correlation coefficient\n",
    "def pearsons_coefficient(x,y):\n",
    "    return(np.cov(x,y)[0,1]/(np.std(x)*np.std(y)))"
   ]
  },
  {
   "cell_type": "code",
   "execution_count": 363,
   "metadata": {},
   "outputs": [
    {
     "data": {
      "text/plain": [
       "0.7210322639283866"
      ]
     },
     "execution_count": 363,
     "metadata": {},
     "output_type": "execute_result"
    }
   ],
   "source": [
    "pearsons_coefficient(df['age'],df['bmi'])"
   ]
  },
  {
   "cell_type": "markdown",
   "metadata": {},
   "source": [
    "A pearosn correlation coefficient value of 0.72 indicates there is a rather strong postitve correlation between age and BMI. In other words, people who are older are likely to have a higher BMI. While one might initially conlcude that you would only need to include one of these two variables for a model to diagnose patients, we must also consider the relationship between age, BMI and sex.\n",
    "\n",
    "While one can safely assume there is no correlation between age and sex, there may be a correlation between BMI and sex. "
   ]
  },
  {
   "cell_type": "code",
   "execution_count": 374,
   "metadata": {},
   "outputs": [
    {
     "data": {
      "text/plain": [
       "<seaborn.axisgrid.FacetGrid at 0x1a0ab5298c8>"
      ]
     },
     "execution_count": 374,
     "metadata": {},
     "output_type": "execute_result"
    },
    {
     "data": {
      "image/png": "[encoded data removed]",
      "text/plain": [
       "<Figure size 404.625x360 with 1 Axes>"
      ]
     },
     "metadata": {
      "needs_background": "light"
     },
     "output_type": "display_data"
    }
   ],
   "source": [
    "# A plot of age against BMI for both genders\n",
    "sns.lmplot(x = 'age', y ='bmi', hue = 'sex', data = df)"
   ]
  },
  {
   "cell_type": "markdown",
   "metadata": {},
   "source": [
    "From the graph above we notice the data for men and women generally overlap, and so from this evidence there appears to be little correlation between BMI and sex.\n",
    "\n",
    "We can calculate the pearson correlation coeffecient between BMI and sex too (we must first represent the sex as binary values; 0 for male, 1 for female)."
   ]
  },
  {
   "cell_type": "code",
   "execution_count": 389,
   "metadata": {},
   "outputs": [
    {
     "data": {
      "text/plain": [
       "-0.13002568117012903"
      ]
     },
     "execution_count": 389,
     "metadata": {},
     "output_type": "execute_result"
    }
   ],
   "source": [
    "# Calculating PCC between sex and BMI\n",
    "genders = {'M':0, 'F':1}\n",
    "sexes = []\n",
    "for s in df['sex']:\n",
    "    sexes.append(genders[s])\n",
    "pearsons_coefficient(sexes, df['bmi'])"
   ]
  },
  {
   "cell_type": "markdown",
   "metadata": {},
   "source": [
    "A pearson correlation coeffiecient value of -0.13 indicates a very weak and nearly non-existent correlation between sex and BMI.\n",
    "\n",
    "While this suggests that only one of the two variables is necessary for building a diagnostic model, we should also consider the correlation between age and diagnosis and BMI and diagnosis for each diagnostic group."
   ]
  },
  {
   "cell_type": "code",
   "execution_count": 388,
   "metadata": {},
   "outputs": [
    {
     "data": {
      "text/html": [
       "<div>\n",
       "<style scoped>\n",
       "    .dataframe tbody tr th:only-of-type {\n",
       "        vertical-align: middle;\n",
       "    }\n",
       "\n",
       "    .dataframe tbody tr th {\n",
       "        vertical-align: top;\n",
       "    }\n",
       "\n",
       "    .dataframe thead th {\n",
       "        text-align: right;\n",
       "    }\n",
       "</style>\n",
       "<table border=\"1\" class=\"dataframe\">\n",
       "  <thead>\n",
       "    <tr style=\"text-align: right;\">\n",
       "      <th></th>\n",
       "      <th>diagnosis</th>\n",
       "      <th>PCC(age,diagnosis)</th>\n",
       "      <th>PCC(BMI,diagnosis)</th>\n",
       "    </tr>\n",
       "  </thead>\n",
       "  <tbody>\n",
       "    <tr>\n",
       "      <td>0</td>\n",
       "      <td>Asthma</td>\n",
       "      <td>0.073546</td>\n",
       "      <td>0.132363</td>\n",
       "    </tr>\n",
       "    <tr>\n",
       "      <td>1</td>\n",
       "      <td>Bronchiectasis</td>\n",
       "      <td>0.026435</td>\n",
       "      <td>0.093403</td>\n",
       "    </tr>\n",
       "    <tr>\n",
       "      <td>2</td>\n",
       "      <td>Bronchiolitis</td>\n",
       "      <td>-0.290528</td>\n",
       "      <td>-0.223802</td>\n",
       "    </tr>\n",
       "    <tr>\n",
       "      <td>3</td>\n",
       "      <td>COPD</td>\n",
       "      <td>0.819868</td>\n",
       "      <td>0.569510</td>\n",
       "    </tr>\n",
       "    <tr>\n",
       "      <td>4</td>\n",
       "      <td>Healthy</td>\n",
       "      <td>-0.632627</td>\n",
       "      <td>-0.489886</td>\n",
       "    </tr>\n",
       "    <tr>\n",
       "      <td>5</td>\n",
       "      <td>LRTI</td>\n",
       "      <td>-0.130472</td>\n",
       "      <td>-0.088710</td>\n",
       "    </tr>\n",
       "    <tr>\n",
       "      <td>6</td>\n",
       "      <td>Pneumonia</td>\n",
       "      <td>0.127742</td>\n",
       "      <td>0.075354</td>\n",
       "    </tr>\n",
       "    <tr>\n",
       "      <td>7</td>\n",
       "      <td>URTI</td>\n",
       "      <td>-0.425528</td>\n",
       "      <td>-0.287670</td>\n",
       "    </tr>\n",
       "  </tbody>\n",
       "</table>\n",
       "</div>"
      ],
      "text/plain": [
       "        diagnosis  PCC(age,diagnosis)  PCC(BMI,diagnosis)\n",
       "0          Asthma            0.073546            0.132363\n",
       "1  Bronchiectasis            0.026435            0.093403\n",
       "2   Bronchiolitis           -0.290528           -0.223802\n",
       "3            COPD            0.819868            0.569510\n",
       "4         Healthy           -0.632627           -0.489886\n",
       "5            LRTI           -0.130472           -0.088710\n",
       "6       Pneumonia            0.127742            0.075354\n",
       "7            URTI           -0.425528           -0.287670"
      ]
     },
     "execution_count": 388,
     "metadata": {},
     "output_type": "execute_result"
    }
   ],
   "source": [
    "# Producing a table to display the PCC values for each diagnostic group\n",
    "pcc_age = []\n",
    "pcc_bmi = []\n",
    "\n",
    "for d in diseases:\n",
    "    diagnosed_cases = []\n",
    "    for i in df['diagnosis']:\n",
    "        if i == d:\n",
    "            diagnosed_cases.append(1)\n",
    "        else:\n",
    "            diagnosed_cases.append(0)\n",
    "    pcc_age.append(pearsons_coefficient(diagnosed_cases, df['age']))\n",
    "    pcc_bmi.append(pearsons_coefficient(diagnosed_cases, df['bmi']))\n",
    "    \n",
    "pd.DataFrame({'diagnosis':diseases, 'PCC(age,diagnosis)':pcc_age,'PCC(BMI,diagnosis)':pcc_bmi})"
   ]
  },
  {
   "cell_type": "markdown",
   "metadata": {},
   "source": [
    "The information observed in this table is very interesting and actually displays how the pearson correlation coefficients change significantly for each diagnostic group. For some of the diseases such as Asthma, Bronchiectasis, LRTI, and Pneumonia, the PCC values for both BMI and age, are very insginficant; in other words BMI and age are not reliable varibales for diagnosing the patient. However for some of the other diagnostic groups the PCC values prove to be very significant, for example the PCC value between age and diagnosis for healthy and COPD patients. Whats interesting is that for all the diagnostic groups where significant PCC values are observed (a value further away from zero), the more significant value occurs between age and dignosis. This concludes, that from the data observed here, where age and BMI prove to be correlated to diagnosis, the correlation between age and diagnosis is stronger than the correlation between BMI and diagnosis. From this information we can finally conclude, that an optimal model for diagnosis could be built using the age data and would not necessarliy need the BMI data. It is worth noting that one may still wish to include the BMI data, as extra features can often lead to more accurate results. However extra features also increase the trainign time of our models, and in this case the increased complexity added by including the BMI data will probably not lead to a significant increase in prediciton accuracy."
   ]
  },
  {
   "cell_type": "markdown",
   "metadata": {},
   "source": [
    "## Sex\n",
    "We have already demonstrated how BMI and age affect the diagnostics so now we should further explore if the sex of the patient is correlated to the diagnosis."
   ]
  },
  {
   "cell_type": "code",
   "execution_count": 197,
   "metadata": {},
   "outputs": [
    {
     "data": {
      "text/plain": [
       "42"
      ]
     },
     "execution_count": 197,
     "metadata": {},
     "output_type": "execute_result"
    }
   ],
   "source": [
    "# 42 females \n",
    "len(df[df['sex'] == 'F'])"
   ]
  },
  {
   "cell_type": "code",
   "execution_count": 198,
   "metadata": {},
   "outputs": [
    {
     "data": {
      "text/plain": [
       "75"
      ]
     },
     "execution_count": 198,
     "metadata": {},
     "output_type": "execute_result"
    }
   ],
   "source": [
    "# 75 males\n",
    "len(df[df['sex'] == 'M'])"
   ]
  },
  {
   "cell_type": "code",
   "execution_count": 237,
   "metadata": {},
   "outputs": [],
   "source": [
    "# Prodcuing dictionaries that contain the diagnostic groups of each sex.\n",
    "disease_count_males = {'Asthma':0, \n",
    "                       'Bronchiectasis':0,\n",
    "                       'Bronchiolitis':0,\n",
    "                       'COPD':0,\n",
    "                       'Healthy':0,\n",
    "                       'LRTI':0,\n",
    "                       'Pneumonia':0,\n",
    "                       'URTI':0}\n",
    "\n",
    "disease_count_females = disease_count_males\n",
    "\n",
    "for d in df[df['sex'] == 'M']['diagnosis']:\n",
    "    disease_count_males[d] += 1\n",
    "    \n",
    "for d in df[df['sex'] == 'F']['diagnosis']:\n",
    "    disease_count_females[d] += 1"
   ]
  },
  {
   "cell_type": "code",
   "execution_count": 238,
   "metadata": {},
   "outputs": [
    {
     "data": {
      "text/plain": [
       "{'Asthma': 1,\n",
       " 'Bronchiectasis': 7,\n",
       " 'Bronchiolitis': 5,\n",
       " 'COPD': 62,\n",
       " 'Healthy': 24,\n",
       " 'LRTI': 1,\n",
       " 'Pneumonia': 6,\n",
       " 'URTI': 11}"
      ]
     },
     "execution_count": 238,
     "metadata": {},
     "output_type": "execute_result"
    }
   ],
   "source": [
    "disease_count_males"
   ]
  },
  {
   "cell_type": "code",
   "execution_count": 239,
   "metadata": {},
   "outputs": [
    {
     "data": {
      "text/plain": [
       "{'Asthma': 1,\n",
       " 'Bronchiectasis': 7,\n",
       " 'Bronchiolitis': 5,\n",
       " 'COPD': 62,\n",
       " 'Healthy': 24,\n",
       " 'LRTI': 1,\n",
       " 'Pneumonia': 6,\n",
       " 'URTI': 11}"
      ]
     },
     "execution_count": 239,
     "metadata": {},
     "output_type": "execute_result"
    }
   ],
   "source": [
    "disease_count_females"
   ]
  },
  {
   "cell_type": "code",
   "execution_count": 228,
   "metadata": {},
   "outputs": [],
   "source": [
    "# As the number of males and females are different it is better to represent \n",
    "# dignosis popultations as percentage of total population\n",
    "disease_proportions_f = []\n",
    "disease_proportions_m = []\n",
    "for i in disease_count_females:\n",
    "    disease_proportions_f.append(disease_count_females[i] / len(df[df['sex'] == 'F']))\n",
    "for i in disease_count_males:\n",
    "    disease_proportions_m.append(disease_count_males[i] / len(df[df['sex'] == 'M']))    "
   ]
  },
  {
   "cell_type": "code",
   "execution_count": 233,
   "metadata": {},
   "outputs": [
    {
     "data": {
      "image/png": "[encoded data removed]",
      "text/plain": [
       "<Figure size 1080x576 with 1 Axes>"
      ]
     },
     "metadata": {
      "needs_background": "light"
     },
     "output_type": "display_data"
    }
   ],
   "source": [
    "# Dispalying the data for diagnostic groups and sex in a bar chart.\n",
    "N = len(set(df['diagnosis']))\n",
    "\n",
    "ind = np.arange(N) \n",
    "width = 0.35\n",
    "plt.figure(figsize = (15,8))\n",
    "plt.bar(ind, disease_proportions_m, width, label='Men')\n",
    "plt.bar(ind + width, disease_proportions_f, width,\n",
    "    label='Women')\n",
    "\n",
    "plt.ylabel('Proportion of total population with diagnosis')\n",
    "plt.title('Proportion by diagnosis and gender')\n",
    "\n",
    "plt.xticks(ind + width / 2, ('Asthma','Bronchiectasis','Bronchiolitis','COPD','Healthy','LRTI','Pneumonia','URTI'))\n",
    "plt.legend(loc='best')\n",
    "plt.show()\n"
   ]
  },
  {
   "cell_type": "markdown",
   "metadata": {},
   "source": [
    "From this graoh we can see that the sex is an important factor to consider. For example the proportion of men who have COPD is almost double that of women, and the proportion of women who have URTI or Bronnchiectasis is significantly higher than that of men."
   ]
  },
  {
   "cell_type": "markdown",
   "metadata": {},
   "source": [
    "## Conclusion\n",
    "In conclusion to the exploratory data anlysis, there are two variables that we would need to use in our diagnosis model: age and sex.\n",
    "\n",
    "BMI proved not to be necessary due to a strong positive correlation between BMI and age, but with a lower correlation between diagnosis and BMI compared to the correlation between age and diagnosis.\n",
    "\n",
    "Sex is necessary to include as the proportion of men and women in each diagnostic group varies drastically"
   ]
  },
  {
   "cell_type": "code",
   "execution_count": null,
   "metadata": {},
   "outputs": [],
   "source": []
  }
 ],
 "metadata": {
  "kernelspec": {
   "display_name": "Python 3",
   "language": "python",
   "name": "python3"
  },
  "language_info": {
   "codemirror_mode": {
    "name": "ipython",
    "version": 3
   },
   "file_extension": ".py",
   "mimetype": "text/x-python",
   "name": "python",
   "nbconvert_exporter": "python",
   "pygments_lexer": "ipython3",
   "version": "3.7.4"
  }
 },
 "nbformat": 4,
 "nbformat_minor": 2
}
